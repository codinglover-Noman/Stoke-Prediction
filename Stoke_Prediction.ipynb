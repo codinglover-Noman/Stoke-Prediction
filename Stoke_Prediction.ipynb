{
  "metadata": {
    "kernelspec": {
      "language": "python",
      "display_name": "Python 3",
      "name": "python3"
    },
    "language_info": {
      "name": "python",
      "version": "3.10.12",
      "mimetype": "text/x-python",
      "codemirror_mode": {
        "name": "ipython",
        "version": 3
      },
      "pygments_lexer": "ipython3",
      "nbconvert_exporter": "python",
      "file_extension": ".py"
    },
    "kaggle": {
      "accelerator": "nvidiaTeslaT4",
      "dataSources": [
        {
          "sourceId": 1882037,
          "sourceType": "datasetVersion",
          "datasetId": 1120859
        }
      ],
      "dockerImageVersionId": 30579,
      "isInternetEnabled": false,
      "language": "python",
      "sourceType": "notebook",
      "isGpuEnabled": true
    },
    "colab": {
      "provenance": []
    }
  },
  "nbformat_minor": 0,
  "nbformat": 4,
  "cells": [
    {
      "cell_type": "code",
      "source": [
        "import numpy as np # linear algebra\n",
        "import pandas as pd # data processing, CSV file I/O (e.g. pd.read_csv)\n",
        "\n",
        "# Input data files are available in the read-only \"../input/\" directory\n",
        "# For example, running this (by clicking run or pressing Shift+Enter) will list all files under the input directory\n",
        "\n",
        "import os\n",
        "for dirname, _, filenames in os.walk('/kaggle/input'):\n",
        "    for filename in filenames:\n",
        "        print(os.path.join(dirname, filename))\n",
        "\n"
      ],
      "metadata": {
        "_uuid": "8f2839f25d086af736a60e9eeb907d3b93b6e0e5",
        "_cell_guid": "b1076dfc-b9ad-4769-8c92-a6c4dae69d19",
        "execution": {
          "iopub.status.busy": "2023-11-18T05:19:46.397985Z",
          "iopub.execute_input": "2023-11-18T05:19:46.398363Z",
          "iopub.status.idle": "2023-11-18T05:19:46.408215Z",
          "shell.execute_reply.started": "2023-11-18T05:19:46.398338Z",
          "shell.execute_reply": "2023-11-18T05:19:46.407035Z"
        },
        "trusted": true,
        "id": "1dQq2Dm4YZzv"
      },
      "execution_count": 1,
      "outputs": []
    },
    {
      "cell_type": "markdown",
      "source": [
        "<div style='background-color: #956789; border: 2px solid '>\n",
        "    <font size=\"+2\" color=\"white\" ><b>   ✨Complete Machine Learning Project  </b></font>\n",
        "</div>"
      ],
      "metadata": {
        "id": "vJuAkzG-YZzy"
      }
    },
    {
      "cell_type": "markdown",
      "source": [
        "<div style='background-color: #956789; border: 2px solid '>\n",
        "    <font size=\"+2\" color=\"white\" ><b>   📜 Data Description  </b></font>\n",
        "</div>"
      ],
      "metadata": {
        "id": "N_sOKS4ZYZz0"
      }
    },
    {
      "cell_type": "markdown",
      "source": [
        "\n",
        "| Attribute           | Description                                                  |\n",
        "|---------------------|--------------------------------------------------------------|\n",
        "| **id**              | Unique identifier                                           |\n",
        "| **gender**          | \"Male\", \"Female\" or \"Other\"                                 |\n",
        "| **age**             | Age of the patient                                          |\n",
        "| **hypertension**    | 0 if the patient doesn't have hypertension, 1 if they do    |\n",
        "| **heart_disease**   | 0 if the patient doesn't have any heart diseases, 1 if they do |\n",
        "| **ever_married**    | \"No\" or \"Yes\"                                               |\n",
        "| **work_type**       | \"Children\", \"Govt_job\", \"Never_worked\", \"Private\" or \"Self-employed\" |\n",
        "| **Residence_type**  | \"Rural\" or \"Urban\"                                          |\n",
        "| **avg_glucose_level** | Average glucose level in blood                               |\n",
        "| **bmi**             | Body mass index                                             |\n",
        "| **smoking_status**  | \"Formerly smoked\", \"Never smoked\", \"Smokes\" or \"Unknown\"     |\n",
        "| **stroke**          | 1 if the patient had a stroke, 0 if not                      |\n"
      ],
      "metadata": {
        "id": "nyeM9-9RYZz1"
      }
    },
    {
      "cell_type": "markdown",
      "source": [
        "<div style='background-color: #956789; border: 2px solid '>\n",
        "    <font size=\"+2\" color=\"white\" ><b>🤔What steps should a machine learning engineer follow for a classification problem? </b></font>\n",
        "</div>"
      ],
      "metadata": {
        "id": "TZ44554gYZz2"
      }
    },
    {
      "cell_type": "markdown",
      "source": [
        "<div style=\"border-radius:10px; padding: 15px; background-color: #e79a73; font-size:130%; text-align:left\">\n",
        "\n",
        "<h2 align=\"left\"><font color=#005500>Machine Learning Problem Solving Workflow:</font></h2>\n",
        "1. **Problem Understanding:**\n",
        "    - Understand the nature of the problem.\n",
        "    - Have knowledge about the attributes of the data.\n",
        "\n",
        "2. **Data Inspection:**\n",
        "    - Determine the size of the dataset.\n",
        "    - Examine the data to understand the tasks it is currently performing.\n",
        "\n",
        "3. **Data Types and Quality Check:**\n",
        "    - Verify the correctness of data types.\n",
        "    - Check for any missing values in the dataset.\n",
        "    - Identify and handle duplicate entries.\n",
        "\n",
        "4. **Exploratory Data Analysis (EDA):**\n",
        "    - Inspect data to ensure the correctness of types and distributions.\n",
        "    - Examine occurrence frequencies for each column.\n",
        "\n",
        "5. **Correlation Analysis:**\n",
        "    - Evaluate the correlation between input features and the output variable.\n",
        "    - Explore correlations among input variables.\n",
        "\n",
        "6. **Outlier Detection:**\n",
        "    - Identify and handle outliers in the dataset.\n",
        "\n",
        "7. **Feature Engineering:**\n",
        "    - Identify and drop unnecessary columns based on domain knowledge or techniques.\n",
        "    - Encode categorical columns using techniques like Label Encoding, Ordinal Encoding, or One-Hot Encoding.\n",
        "\n",
        "8. **Normalization (if necessary):**\n",
        "    - Normalize the data if required by the chosen machine learning model.\n",
        "\n",
        "9. **Model Selection:**\n",
        "    - Implement various machine learning models to evaluate performance.\n",
        "    - Select the model that best fits the problem and dataset.\n",
        "\n",
        "10. **Model Deployment:**\n",
        "    - Deploy the selected model for future predictions."
      ],
      "metadata": {
        "id": "ty0L_mKaYZz3"
      }
    },
    {
      "cell_type": "markdown",
      "source": [
        "<div style=\"border-radius:10px; padding: 15px; background-color: #e79a73; font-size:130%; text-align:left\">\n",
        "\n",
        "<h2 align=\"left\"><font color=#005500> Problem Statement: Predicting Stroke Risk in Patients</font></h2>\n",
        "\n",
        "\n",
        "**Objective:**\n",
        "Develop a predictive model to assess the likelihood of a patient experiencing a stroke based on demographic information, health conditions, lifestyle factors, residence details, and health metrics.\n",
        "\n",
        "**Data Attributes:**\n",
        "- **Demographics:** Gender, age.\n",
        "- **Health Conditions:** Hypertension, heart disease.\n",
        "- **Lifestyle:** Marital status, work type.\n",
        "- **Residence Details:** Rural or urban.\n",
        "- **Health Metrics:** Average glucose level, BMI.\n",
        "- **Smoking Habits:** Smoking status.\n",
        "\n",
        "**Target Variable:**\n",
        "The target variable is **stroke** (1 if the patient had a stroke, 0 if not).\n",
        "\n",
        "**Significance:**\n",
        "The model aims to provide healthcare professionals with insights for early intervention and personalized patient care.\n",
        "\n",
        "---\n"
      ],
      "metadata": {
        "id": "ihBSk7HLYZz3"
      }
    },
    {
      "cell_type": "markdown",
      "source": [
        "<div style='background-color: #956789; border: 2px solid '>\n",
        "    <font size=\"+2\" color=\"white\" ><b>   ✨Let's Get Started  </b></font>\n",
        "</div>"
      ],
      "metadata": {
        "id": "15VhhJFjYZz4"
      }
    },
    {
      "cell_type": "markdown",
      "source": [
        "<div style='background-color: #956789; border: 2px solid '>\n",
        "    <font size=\"+2\" color=\"white\" ><b> 📒 Import all Liabraries  </b></font>\n",
        "</div>\n"
      ],
      "metadata": {
        "id": "t3VByedqYZz5"
      }
    },
    {
      "cell_type": "code",
      "source": [
        "import numpy as np\n",
        "import pandas as pd\n",
        "import seaborn as sns\n",
        "import matplotlib.pyplot as plt\n",
        "import plotly.graph_objects as go\n",
        "from plotly.subplots import make_subplots\n",
        "from matplotlib.colors import ListedColormap\n",
        "from matplotlib import colors\n",
        "import warnings\n",
        "warnings.filterwarnings(\"ignore\")\n",
        "from sklearn.model_selection import train_test_split\n",
        "from sklearn.preprocessing import MinMaxScaler\n",
        "from sklearn.linear_model import LogisticRegression\n",
        "from sklearn.svm import SVC\n",
        "from sklearn.naive_bayes import MultinomialNB\n",
        "from sklearn.tree import DecisionTreeClassifier\n",
        "from sklearn.neighbors import KNeighborsClassifier\n",
        "from sklearn.ensemble import RandomForestClassifier\n",
        "from sklearn.ensemble import AdaBoostClassifier\n",
        "from sklearn.ensemble import BaggingClassifier\n",
        "from sklearn.ensemble import ExtraTreesClassifier\n",
        "from sklearn.ensemble import GradientBoostingClassifier\n",
        "from xgboost import XGBClassifier\n",
        "from sklearn.naive_bayes import GaussianNB,MultinomialNB,BernoulliNB\n",
        "from sklearn.metrics import accuracy_score,confusion_matrix,precision_score"
      ],
      "metadata": {
        "execution": {
          "iopub.status.busy": "2023-11-18T05:19:46.409641Z",
          "iopub.execute_input": "2023-11-18T05:19:46.410321Z",
          "iopub.status.idle": "2023-11-18T05:19:46.419742Z",
          "shell.execute_reply.started": "2023-11-18T05:19:46.410293Z",
          "shell.execute_reply": "2023-11-18T05:19:46.418569Z"
        },
        "trusted": true,
        "id": "xs9Dc164YZz7"
      },
      "execution_count": null,
      "outputs": []
    },
    {
      "cell_type": "markdown",
      "source": [
        "<div style='background-color: #956789; border: 2px solid '>\n",
        "    <font size=\"+2\" color=\"white\" ><b>  🔔 Load DataSet </b></font>\n",
        "</div>\n"
      ],
      "metadata": {
        "id": "beC3mIgAYZz8"
      }
    },
    {
      "cell_type": "code",
      "source": [
        "df=pd.read_csv(\"/kaggle/input/stroke-prediction-dataset/healthcare-dataset-stroke-data.csv\")\n",
        "df.head()"
      ],
      "metadata": {
        "execution": {
          "iopub.status.busy": "2023-11-18T05:19:46.421639Z",
          "iopub.execute_input": "2023-11-18T05:19:46.422372Z",
          "iopub.status.idle": "2023-11-18T05:19:46.454617Z",
          "shell.execute_reply.started": "2023-11-18T05:19:46.422309Z",
          "shell.execute_reply": "2023-11-18T05:19:46.453706Z"
        },
        "trusted": true,
        "id": "5B7TGQn3YZz9"
      },
      "execution_count": null,
      "outputs": []
    },
    {
      "cell_type": "markdown",
      "source": [
        "<div style='background-color: #956789; border: 2px solid '>\n",
        "    <font size=\"+2\" color=\"white\" ><b>  🕵️‍♀️Basic Data Explorations </b></font>\n",
        "</div>\n",
        "\n"
      ],
      "metadata": {
        "id": "l1LuLhgqYZz9"
      }
    },
    {
      "cell_type": "code",
      "source": [
        "df.describe()"
      ],
      "metadata": {
        "execution": {
          "iopub.status.busy": "2023-11-18T05:19:46.455651Z",
          "iopub.execute_input": "2023-11-18T05:19:46.455937Z",
          "iopub.status.idle": "2023-11-18T05:19:46.486353Z",
          "shell.execute_reply.started": "2023-11-18T05:19:46.455912Z",
          "shell.execute_reply": "2023-11-18T05:19:46.485433Z"
        },
        "trusted": true,
        "id": "w1y6vXmXYZ0D"
      },
      "execution_count": null,
      "outputs": []
    },
    {
      "cell_type": "code",
      "source": [
        "print(df.info())\n",
        "print(\"__________________________________________\")\n",
        "print(\"Data Shape is\",df.shape)\n",
        "print(\"__________________________________________\")\n",
        "print(\"**Missing Values**\")\n",
        "print(df.isnull().sum())\n",
        "print(\"__________________________________________\")\n",
        "print(\"There is\",df.duplicated().sum(),\"duplicates\")\n",
        "\n"
      ],
      "metadata": {
        "execution": {
          "iopub.status.busy": "2023-11-18T05:19:46.488728Z",
          "iopub.execute_input": "2023-11-18T05:19:46.489691Z",
          "iopub.status.idle": "2023-11-18T05:19:46.516566Z",
          "shell.execute_reply.started": "2023-11-18T05:19:46.489654Z",
          "shell.execute_reply": "2023-11-18T05:19:46.515593Z"
        },
        "trusted": true,
        "id": "ZrPa8UBfYZ0E"
      },
      "execution_count": null,
      "outputs": []
    },
    {
      "cell_type": "markdown",
      "source": [
        "<div style=\"border-radius: 10px; padding: 15px; background-color: #e79a73; font-size: 130%; text-align: left\">\n",
        "\n",
        "<h2 align=\"left\"><font color=\"#005500\">Conclusion</font></h2>\n",
        "\n",
        "In this dataset containing 5110 rows and 12 columns, we observed that crucial columns such as **gender**, **ever_married**, **work_type**, **Residence_type**, and **smoking_status** have appropriate data types. However, to ensure better compatibility during the model training process, we plan to convert them to integers. Additionally, the **age** column, currently in float format, will be converted to an integer for more efficient analysis.\n",
        "\n",
        "Columns related to health indicators (**hypertension**, **heart_disease**, and **stroke**) are presently in integer format. To facilitate a more detailed analysis, we will convert these columns to object type.\n",
        "\n",
        "On the positive side, columns **avg_glucose_level** and **BMI** already have suitable data types and do not require any changes.\n",
        "\n",
        "In terms of missing values, only the **BMI** column contains 201 missing values. Fortunately, there are no duplicate entries in the dataset.\n",
        "\n",
        "This data preprocessing will enhance the dataset's compatibility with machine learning models, ensuring a more effective and accurate analysis.\n",
        "\n",
        "</div>\n"
      ],
      "metadata": {
        "id": "If2urx0fYZ0E"
      }
    },
    {
      "cell_type": "markdown",
      "source": [
        "<div style='background-color: #956789; border: 2px solid '>\n",
        "    <font size=\"+2\" color=\"white\" ><b>  Missing Valuse Imputation </b></font>\n",
        "</div>\n"
      ],
      "metadata": {
        "id": "G1FjwrTBYZ0F"
      }
    },
    {
      "cell_type": "code",
      "source": [
        "df['bmi'].fillna(df['bmi'].median(), inplace=True)\n",
        "df.isnull().sum()"
      ],
      "metadata": {
        "execution": {
          "iopub.status.busy": "2023-11-18T05:19:46.51795Z",
          "iopub.execute_input": "2023-11-18T05:19:46.518292Z",
          "iopub.status.idle": "2023-11-18T05:19:46.531128Z",
          "shell.execute_reply.started": "2023-11-18T05:19:46.518263Z",
          "shell.execute_reply": "2023-11-18T05:19:46.530327Z"
        },
        "trusted": true,
        "id": "Ci-b3ACUYZ0F"
      },
      "execution_count": null,
      "outputs": []
    },
    {
      "cell_type": "markdown",
      "source": [
        "<div style='background-color: #956789; border: 2px solid '>\n",
        "    <font size=\"+2\" color=\"white\" ><b>  Change Data types </b></font>\n",
        "</div>\n"
      ],
      "metadata": {
        "id": "oto-uleIYZ0F"
      }
    },
    {
      "cell_type": "code",
      "source": [
        "df['age'] = df['age'].astype(int)#float to int\n",
        "df['hypertension'] = df['hypertension'].astype(object)#int to object\n",
        "df['heart_disease'] = df['heart_disease'].astype(object)#int to object\n",
        "df['stroke'] = df['stroke'].astype(object)#int to object\n"
      ],
      "metadata": {
        "execution": {
          "iopub.status.busy": "2023-11-18T05:19:46.532514Z",
          "iopub.execute_input": "2023-11-18T05:19:46.532861Z",
          "iopub.status.idle": "2023-11-18T05:19:46.541361Z",
          "shell.execute_reply.started": "2023-11-18T05:19:46.532808Z",
          "shell.execute_reply": "2023-11-18T05:19:46.540393Z"
        },
        "trusted": true,
        "id": "-x56FhHGYZ0F"
      },
      "execution_count": null,
      "outputs": []
    },
    {
      "cell_type": "markdown",
      "source": [
        "<div style='background-color: #956789; border: 2px solid '>\n",
        "    <font size=\"+2\" color=\"white\" ><b>📊Univariate analysis of categorical columns🤩</b></font>\n",
        "</div>\n"
      ],
      "metadata": {
        "id": "oRK4zvOzYZ0G"
      }
    },
    {
      "cell_type": "code",
      "source": [
        "categorical_columns = ['gender', 'hypertension', 'heart_disease', 'ever_married', 'work_type', 'Residence_type', 'smoking_status', 'stroke']\n",
        "\n",
        "# Create the subplots based on the number of categorical columns\n",
        "fig = make_subplots(rows=2, cols=4, specs=[[{'type':'domain'}]*4]*2, vertical_spacing=0.1, horizontal_spacing=0.01)\n",
        "\n",
        "# Loop through all the features and add the pie chart to the subplot\n",
        "for i, feature in enumerate(categorical_columns):\n",
        "    value_counts = df[feature].value_counts()\n",
        "    labels = value_counts.index.tolist()\n",
        "    values = value_counts.values.tolist()\n",
        "\n",
        "    # Define color map based on purple color\n",
        "    cmap = colors.LinearSegmentedColormap.from_list(\"Purple\", [\"Purple\", \"white\"])\n",
        "    norm = colors.Normalize(vmin=0, vmax=len(labels))\n",
        "    color_list = [colors.rgb2hex(cmap(norm(i))) for i in range(len(labels))]\n",
        "\n",
        "    pie_chart = go.Pie(\n",
        "        labels=labels,\n",
        "        values=values,\n",
        "        hole=0.6,\n",
        "        marker=dict(colors=color_list, line=dict(color='white', width=3)),\n",
        "        textposition='inside',\n",
        "        textinfo='percent+label',\n",
        "        title=feature,  # Add title with the feature name\n",
        "        title_font=dict(size=25, color='black', family='Calibri')\n",
        "    )\n",
        "\n",
        "    # Calculate the row and column indices based on the total number of subplots\n",
        "    row_index = (i // 4) + 1\n",
        "    col_index = (i % 4) + 1\n",
        "\n",
        "    # Add the pie chart to the subplot\n",
        "    fig.add_trace(pie_chart, row=row_index, col=col_index)\n",
        "\n",
        "# Update the layout\n",
        "fig.update_layout(showlegend=False, height=600, width=990,\n",
        "                   title={\n",
        "                          'text':\"Distribution of Categorical Variables\",\n",
        "                          'y':0.92,\n",
        "                          'x':0.5,\n",
        "                          'xanchor':'center',\n",
        "                          'yanchor':'top',\n",
        "                          'font': {'size':28, 'color':'black', 'family':'Calibri'}\n",
        "                         })\n",
        "\n",
        "# Show the plot\n",
        "fig.show()\n"
      ],
      "metadata": {
        "execution": {
          "iopub.status.busy": "2023-11-18T05:19:46.544099Z",
          "iopub.execute_input": "2023-11-18T05:19:46.544369Z",
          "iopub.status.idle": "2023-11-18T05:19:46.631953Z",
          "shell.execute_reply.started": "2023-11-18T05:19:46.544346Z",
          "shell.execute_reply": "2023-11-18T05:19:46.631074Z"
        },
        "trusted": true,
        "id": "QZXRE0pkYZ0G"
      },
      "execution_count": null,
      "outputs": []
    },
    {
      "cell_type": "markdown",
      "source": [
        "<div style='background-color: #956789; border: 2px solid '>\n",
        "    <font size=\"+2\" color=\"white\" ><b>📊Univariate analysis of Numeric columns🤩</b></font>\n",
        "</div>\n"
      ],
      "metadata": {
        "id": "cnxPqEXBYZ0G"
      }
    },
    {
      "cell_type": "code",
      "source": [
        "numerical_columns = ['age', 'avg_glucose_level', 'bmi']\n",
        "\n",
        "# Create a subplot with three histograms\n",
        "fig = make_subplots(rows=1, cols=3, subplot_titles=numerical_columns)\n",
        "\n",
        "# Define color map based on purple color\n",
        "cmap = colors.LinearSegmentedColormap.from_list(\"Purple\", [\"Purple\", \"white\"])\n",
        "norm = colors.Normalize(vmin=0, vmax=len(numerical_columns))\n",
        "color_list = [colors.rgb2hex(cmap(norm(i))) for i in range(len(numerical_columns))]\n",
        "\n",
        "for i, col in enumerate(numerical_columns, 1):\n",
        "    # Add a histogram for each numerical column with purple color\n",
        "    fig.add_trace(go.Histogram(x=df[col], xbins=dict(size=5), name=col, marker=dict(color=color_list[i-1])), row=1, col=i)\n",
        "\n",
        "# Update the layout\n",
        "fig.update_layout(showlegend=False, height=400, width=990,\n",
        "                   title={\n",
        "                          'text':\"Distribution of Numerical Variables\",\n",
        "                          'y':0.90,\n",
        "                          'x':0.5,\n",
        "                          'xanchor':'center',\n",
        "                          'yanchor':'top',\n",
        "                          'font': {'size':28, 'color':'black', 'family':'Calibri'}\n",
        "                         })\n",
        "\n",
        "# Show the plot\n",
        "fig.show()\n"
      ],
      "metadata": {
        "execution": {
          "iopub.status.busy": "2023-11-18T05:19:46.633076Z",
          "iopub.execute_input": "2023-11-18T05:19:46.633335Z",
          "iopub.status.idle": "2023-11-18T05:19:46.682851Z",
          "shell.execute_reply.started": "2023-11-18T05:19:46.633313Z",
          "shell.execute_reply": "2023-11-18T05:19:46.681927Z"
        },
        "trusted": true,
        "id": "lO0urMuKYZ0H"
      },
      "execution_count": null,
      "outputs": []
    },
    {
      "cell_type": "code",
      "source": [
        "# sns.pairplot(df)"
      ],
      "metadata": {
        "execution": {
          "iopub.status.busy": "2023-11-18T05:19:46.684187Z",
          "iopub.execute_input": "2023-11-18T05:19:46.684554Z",
          "iopub.status.idle": "2023-11-18T05:19:46.68947Z",
          "shell.execute_reply.started": "2023-11-18T05:19:46.684507Z",
          "shell.execute_reply": "2023-11-18T05:19:46.688543Z"
        },
        "trusted": true,
        "id": "qamoL9kXYZ0H"
      },
      "execution_count": null,
      "outputs": []
    },
    {
      "cell_type": "markdown",
      "source": [
        "<a id=\"libraries\"></a>\n",
        "# <b><span style='color:#0bbeb3'> Correlations Understanding</span></b>\n",
        "\n",
        "![](https://www.mathsisfun.com/data/images/correlation-examples.svg)"
      ],
      "metadata": {
        "id": "Te2iLfseYZ0I"
      }
    },
    {
      "cell_type": "markdown",
      "source": [
        "<div style='background-color: #956789; border: 2px solid '>\n",
        "    <font size=\"+2\" color=\"white\" ><b>📊Categeorical columns vs Target Columns</b></font>\n",
        "</div>\n"
      ],
      "metadata": {
        "id": "zTL-ytfTYZ0I"
      }
    },
    {
      "cell_type": "code",
      "source": [
        "x_cols = ['gender', 'hypertension', 'heart_disease', 'ever_married', 'work_type', 'Residence_type', 'smoking_status']\n",
        "y_col = 'stroke'\n",
        "\n",
        "# Create subplots\n",
        "fig, axes = plt.subplots(nrows=2, ncols=4, figsize=(15, 10))\n",
        "\n",
        "for i, col in enumerate(x_cols):\n",
        "    # Create a cross tabulation showing the proportion of the target variable for each category of the feature\n",
        "    cross_tab = pd.crosstab(index=df[col], columns=df[y_col])\n",
        "    cross_tab_prop = cross_tab.div(cross_tab.sum(1).astype(float), axis=0)  # Normalize the data\n",
        "\n",
        "    # Define colormap\n",
        "    cmp = ListedColormap(['#346c68', '#5bbeb7'])\n",
        "\n",
        "    # Plot stacked bar charts\n",
        "    x, y = i // 4, i % 4\n",
        "    cross_tab_prop.plot(kind='bar', stacked=True, width=0.8, colormap=cmp,\n",
        "                        legend=False, ylabel='Proportion', ax=axes[x, y])\n",
        "\n",
        "    # Add labels and counts to the bars\n",
        "    for idx, val in enumerate(cross_tab_prop.index.values):\n",
        "        for proportion, count, y_location in zip(cross_tab_prop.loc[val], cross_tab.loc[val], cross_tab_prop.loc[val].cumsum()):\n",
        "            axes[x, y].text(x=idx - 0.3, y=(y_location - proportion) + (proportion / 2) - 0.03,\n",
        "                             s=f'    {count}\\n({np.round(proportion * 100, 1)}%)',\n",
        "                             color=\"black\", fontsize=9, fontweight=\"bold\")\n",
        "\n",
        "    # Add legend\n",
        "    axes[x, y].legend(title=y_col.capitalize(), loc=(0.7, 0.9), fontsize=8, ncol=2)\n",
        "\n",
        "    # Set y limit\n",
        "    axes[x, y].set_ylim([0, 1.12])\n",
        "\n",
        "plt.tight_layout()\n",
        "plt.show()\n"
      ],
      "metadata": {
        "execution": {
          "iopub.status.busy": "2023-11-18T05:19:46.690835Z",
          "iopub.execute_input": "2023-11-18T05:19:46.691419Z",
          "iopub.status.idle": "2023-11-18T05:19:48.436803Z",
          "shell.execute_reply.started": "2023-11-18T05:19:46.691393Z",
          "shell.execute_reply": "2023-11-18T05:19:48.43589Z"
        },
        "trusted": true,
        "id": "kC8_q5dwYZ0I"
      },
      "execution_count": null,
      "outputs": []
    },
    {
      "cell_type": "markdown",
      "source": [
        "<div style='background-color: #956789; border: 2px solid '>\n",
        "    <font size=\"+2\" color=\"white\" ><b> 🕵️‍♀️ Detect Outliers</b></font>\n",
        "</div>\n"
      ],
      "metadata": {
        "id": "gLRcDHvHYZ0J"
      }
    },
    {
      "cell_type": "code",
      "source": [
        "numeric_variables = ['age', 'bmi', 'avg_glucose_level']\n",
        "\n",
        "# Set the size of the plot grid\n",
        "plt.figure(figsize=(12, 6))\n",
        "\n",
        "# Create Box Plots for Outlier Detection\n",
        "for i, numeric_var in enumerate(numeric_variables, 1):\n",
        "    plt.subplot(2, 3, i)\n",
        "    sns.boxplot(y=df[numeric_var], color='purple')\n",
        "    plt.title(f'Box Plot of {numeric_var}')\n",
        "    plt.ylabel(numeric_var)\n",
        "\n",
        "# Adjust layout\n",
        "plt.tight_layout()\n",
        "\n",
        "# Show the plots\n",
        "plt.show()\n"
      ],
      "metadata": {
        "execution": {
          "iopub.status.busy": "2023-11-18T05:19:48.438264Z",
          "iopub.execute_input": "2023-11-18T05:19:48.438656Z",
          "iopub.status.idle": "2023-11-18T05:19:49.011633Z",
          "shell.execute_reply.started": "2023-11-18T05:19:48.43862Z",
          "shell.execute_reply": "2023-11-18T05:19:49.01065Z"
        },
        "trusted": true,
        "id": "TiNXI7bAYZ0J"
      },
      "execution_count": null,
      "outputs": []
    },
    {
      "cell_type": "code",
      "source": [
        "columns_to_check = ['bmi', 'avg_glucose_level']\n",
        "\n",
        "# Loop through each column and remove outliers using IQR method\n",
        "for column in columns_to_check:\n",
        "    Q1 = df[column].quantile(0.25)\n",
        "    Q3 = df[column].quantile(0.75)\n",
        "    IQR = Q3 - Q1\n",
        "    lower_bound = Q1 - 1.5 * IQR\n",
        "    upper_bound = Q3 + 1.5 * IQR\n",
        "\n",
        "    # Get boolean array indicating the presence of outliers for the current column\n",
        "    outliers = (df[column] < lower_bound) | (df[column] > upper_bound)\n",
        "\n",
        "    # Remove rows containing outliers for the current column\n",
        "    df = df[~outliers]\n",
        "\n",
        "# Verify the changes\n",
        "print(\"Shape after removing outliers:\", df.shape)\n",
        "numeric_variables = ['age', 'bmi', 'avg_glucose_level']\n",
        "\n",
        "# Set the size of the plot grid\n",
        "plt.figure(figsize=(12, 6))\n",
        "\n",
        "# Create Box Plots for Outlier Detection\n",
        "for i, numeric_var in enumerate(numeric_variables, 1):\n",
        "    plt.subplot(2, 3, i)\n",
        "    sns.boxplot(y=df[numeric_var], color='purple')\n",
        "    plt.title(f'Box Plot of {numeric_var}')\n",
        "    plt.ylabel(numeric_var)\n",
        "\n",
        "# Adjust layout\n",
        "plt.tight_layout()\n",
        "\n",
        "# Show the plots\n",
        "plt.show()\n"
      ],
      "metadata": {
        "execution": {
          "iopub.status.busy": "2023-11-18T05:19:49.013074Z",
          "iopub.execute_input": "2023-11-18T05:19:49.013448Z",
          "iopub.status.idle": "2023-11-18T05:19:49.648293Z",
          "shell.execute_reply.started": "2023-11-18T05:19:49.013415Z",
          "shell.execute_reply": "2023-11-18T05:19:49.647355Z"
        },
        "trusted": true,
        "id": "TzgoOdH0YZ0J"
      },
      "execution_count": null,
      "outputs": []
    },
    {
      "cell_type": "markdown",
      "source": [
        "#### There is still a problem here. The minimum value for age is 0. We will drop this row"
      ],
      "metadata": {
        "id": "m6kAJoSzYZ0K"
      }
    },
    {
      "cell_type": "code",
      "source": [
        "df.describe()"
      ],
      "metadata": {
        "execution": {
          "iopub.status.busy": "2023-11-18T05:19:49.649681Z",
          "iopub.execute_input": "2023-11-18T05:19:49.650459Z",
          "iopub.status.idle": "2023-11-18T05:19:49.674092Z",
          "shell.execute_reply.started": "2023-11-18T05:19:49.650424Z",
          "shell.execute_reply": "2023-11-18T05:19:49.672953Z"
        },
        "trusted": true,
        "id": "BxWj8chGYZ0K"
      },
      "execution_count": null,
      "outputs": []
    },
    {
      "cell_type": "code",
      "source": [
        "df = df[df['age'] != 0.000000]\n",
        "print(df.shape)"
      ],
      "metadata": {
        "execution": {
          "iopub.status.busy": "2023-11-18T05:19:49.677476Z",
          "iopub.execute_input": "2023-11-18T05:19:49.678035Z",
          "iopub.status.idle": "2023-11-18T05:19:49.685124Z",
          "shell.execute_reply.started": "2023-11-18T05:19:49.678008Z",
          "shell.execute_reply": "2023-11-18T05:19:49.684035Z"
        },
        "trusted": true,
        "id": "wbDBvxZDYZ0L"
      },
      "execution_count": null,
      "outputs": []
    },
    {
      "cell_type": "code",
      "source": [
        "df.describe()"
      ],
      "metadata": {
        "execution": {
          "iopub.status.busy": "2023-11-18T05:19:49.688972Z",
          "iopub.execute_input": "2023-11-18T05:19:49.689319Z",
          "iopub.status.idle": "2023-11-18T05:19:49.71115Z",
          "shell.execute_reply.started": "2023-11-18T05:19:49.689294Z",
          "shell.execute_reply": "2023-11-18T05:19:49.710248Z"
        },
        "trusted": true,
        "id": "RuF8sVU5YZ0L"
      },
      "execution_count": null,
      "outputs": []
    },
    {
      "cell_type": "code",
      "source": [
        "df=df.drop(columns=[\"id\"])"
      ],
      "metadata": {
        "execution": {
          "iopub.status.busy": "2023-11-18T05:19:49.712117Z",
          "iopub.execute_input": "2023-11-18T05:19:49.712383Z",
          "iopub.status.idle": "2023-11-18T05:19:49.718314Z",
          "shell.execute_reply.started": "2023-11-18T05:19:49.712359Z",
          "shell.execute_reply": "2023-11-18T05:19:49.717307Z"
        },
        "trusted": true,
        "id": "zJ7jA541YZ0L"
      },
      "execution_count": null,
      "outputs": []
    },
    {
      "cell_type": "code",
      "source": [
        "df[['hypertension', 'heart_disease', 'stroke']] = df[['hypertension', 'heart_disease', 'stroke']].astype(int)\n"
      ],
      "metadata": {
        "execution": {
          "iopub.status.busy": "2023-11-18T05:19:49.719359Z",
          "iopub.execute_input": "2023-11-18T05:19:49.719649Z",
          "iopub.status.idle": "2023-11-18T05:19:49.73003Z",
          "shell.execute_reply.started": "2023-11-18T05:19:49.719623Z",
          "shell.execute_reply": "2023-11-18T05:19:49.729187Z"
        },
        "trusted": true,
        "id": "itUP7CYoYZ0M"
      },
      "execution_count": null,
      "outputs": []
    },
    {
      "cell_type": "markdown",
      "source": [
        "<div style='background-color: #956789; border: 2px solid '>\n",
        "    <font size=\"+2\" color=\"white\" ><b>OneHotEncoding</b></font>\n",
        "</div>\n"
      ],
      "metadata": {
        "id": "L2XmAyCwYZ0M"
      }
    },
    {
      "cell_type": "code",
      "source": [
        "df = pd.get_dummies(df, columns=['gender', 'ever_married', 'work_type', 'Residence_type', 'smoking_status'], drop_first=True)\n",
        "print(df.shape)\n"
      ],
      "metadata": {
        "execution": {
          "iopub.status.busy": "2023-11-18T05:19:49.731258Z",
          "iopub.execute_input": "2023-11-18T05:19:49.731615Z",
          "iopub.status.idle": "2023-11-18T05:19:49.748426Z",
          "shell.execute_reply.started": "2023-11-18T05:19:49.731588Z",
          "shell.execute_reply": "2023-11-18T05:19:49.747513Z"
        },
        "trusted": true,
        "id": "5hZv5BPvYZ0M"
      },
      "execution_count": null,
      "outputs": []
    },
    {
      "cell_type": "code",
      "source": [
        "# Step 1 -> train/test/split\n",
        "X_train,X_test,y_train,y_test = train_test_split(df.drop(columns=['stroke']),\n",
        "                                                 df['stroke'],\n",
        "                                                 test_size=0.2,\n",
        "                                                random_state=42)"
      ],
      "metadata": {
        "execution": {
          "iopub.status.busy": "2023-11-18T05:19:49.749603Z",
          "iopub.execute_input": "2023-11-18T05:19:49.749952Z",
          "iopub.status.idle": "2023-11-18T05:19:49.758865Z",
          "shell.execute_reply.started": "2023-11-18T05:19:49.749921Z",
          "shell.execute_reply": "2023-11-18T05:19:49.758032Z"
        },
        "trusted": true,
        "id": "KyetTJB4YZ0N"
      },
      "execution_count": null,
      "outputs": []
    },
    {
      "cell_type": "code",
      "source": [
        "svc = SVC(kernel='sigmoid', gamma=1.0)\n",
        "knc = KNeighborsClassifier()\n",
        "mnb = MultinomialNB()\n",
        "dtc = DecisionTreeClassifier(max_depth=5)\n",
        "lrc = LogisticRegression(solver='liblinear', penalty='l1')\n",
        "rfc = RandomForestClassifier(n_estimators=50, random_state=2)\n",
        "abc = AdaBoostClassifier(n_estimators=50, random_state=2)\n",
        "bc = BaggingClassifier(n_estimators=50, random_state=2)\n",
        "etc = ExtraTreesClassifier(n_estimators=50, random_state=2)\n",
        "gbdt = GradientBoostingClassifier(n_estimators=50,random_state=2)\n",
        "xgb = XGBClassifier(n_estimators=50,random_state=2)"
      ],
      "metadata": {
        "execution": {
          "iopub.status.busy": "2023-11-18T05:19:49.760096Z",
          "iopub.execute_input": "2023-11-18T05:19:49.760389Z",
          "iopub.status.idle": "2023-11-18T05:19:49.767892Z",
          "shell.execute_reply.started": "2023-11-18T05:19:49.76036Z",
          "shell.execute_reply": "2023-11-18T05:19:49.766828Z"
        },
        "trusted": true,
        "id": "363oOVgXYZ0N"
      },
      "execution_count": null,
      "outputs": []
    },
    {
      "cell_type": "code",
      "source": [
        "clfs = {\n",
        "    'SVC' : svc,\n",
        "    'KN' : knc,\n",
        "    'NB': mnb,\n",
        "    'DT': dtc,\n",
        "    'LR': lrc,\n",
        "    'RF': rfc,\n",
        "    'AdaBoost': abc,\n",
        "    'BgC': bc,\n",
        "    'ETC': etc,\n",
        "    'GBDT':gbdt,\n",
        "    'xgb':xgb\n",
        "}"
      ],
      "metadata": {
        "execution": {
          "iopub.status.busy": "2023-11-18T05:19:49.769075Z",
          "iopub.execute_input": "2023-11-18T05:19:49.769334Z",
          "iopub.status.idle": "2023-11-18T05:19:49.779866Z",
          "shell.execute_reply.started": "2023-11-18T05:19:49.769306Z",
          "shell.execute_reply": "2023-11-18T05:19:49.779093Z"
        },
        "trusted": true,
        "id": "wJkya-9VYZ0O"
      },
      "execution_count": null,
      "outputs": []
    },
    {
      "cell_type": "code",
      "source": [
        "def train_classifier(clf,X_train,y_train,X_test,y_test):\n",
        "    clf.fit(X_train,y_train)\n",
        "    y_pred = clf.predict(X_test)\n",
        "    accuracy = accuracy_score(y_test,y_pred)\n",
        "    precision = precision_score(y_test,y_pred)\n",
        "\n",
        "    return accuracy,precision"
      ],
      "metadata": {
        "execution": {
          "iopub.status.busy": "2023-11-18T05:19:49.780934Z",
          "iopub.execute_input": "2023-11-18T05:19:49.781292Z",
          "iopub.status.idle": "2023-11-18T05:19:49.788599Z",
          "shell.execute_reply.started": "2023-11-18T05:19:49.781259Z",
          "shell.execute_reply": "2023-11-18T05:19:49.787687Z"
        },
        "trusted": true,
        "id": "EJFebJ0vYZ0P"
      },
      "execution_count": null,
      "outputs": []
    },
    {
      "cell_type": "code",
      "source": [
        "X_train.info()"
      ],
      "metadata": {
        "execution": {
          "iopub.status.busy": "2023-11-18T05:19:49.789672Z",
          "iopub.execute_input": "2023-11-18T05:19:49.78998Z",
          "iopub.status.idle": "2023-11-18T05:19:49.804484Z",
          "shell.execute_reply.started": "2023-11-18T05:19:49.789955Z",
          "shell.execute_reply": "2023-11-18T05:19:49.803631Z"
        },
        "trusted": true,
        "id": "1vc9GvZTYZ0P"
      },
      "execution_count": null,
      "outputs": []
    },
    {
      "cell_type": "code",
      "source": [
        "accuracy_scores = []\n",
        "precision_scores = []\n",
        "\n",
        "for name,clf in clfs.items():\n",
        "\n",
        "    current_accuracy,current_precision = train_classifier(clf, X_train,y_train,X_test,y_test)\n",
        "\n",
        "    print(\"For \",name)\n",
        "    print(\"Accuracy - \",current_accuracy)\n",
        "    print(\"Precision - \",current_precision)\n",
        "\n",
        "    accuracy_scores.append(current_accuracy)\n",
        "    precision_scores.append(current_precision)"
      ],
      "metadata": {
        "execution": {
          "iopub.status.busy": "2023-11-18T05:19:49.805673Z",
          "iopub.execute_input": "2023-11-18T05:19:49.806405Z",
          "iopub.status.idle": "2023-11-18T05:19:51.579564Z",
          "shell.execute_reply.started": "2023-11-18T05:19:49.806373Z",
          "shell.execute_reply": "2023-11-18T05:19:51.578758Z"
        },
        "trusted": true,
        "id": "u678covAYZ0P"
      },
      "execution_count": null,
      "outputs": []
    },
    {
      "cell_type": "code",
      "source": [
        "performance_df = pd.DataFrame({'Algorithm':clfs.keys(),'Accuracy':accuracy_scores,'Precision':precision_scores}).sort_values('Precision',ascending=False)\n",
        "performance_df"
      ],
      "metadata": {
        "execution": {
          "iopub.status.busy": "2023-11-18T05:19:51.581103Z",
          "iopub.execute_input": "2023-11-18T05:19:51.581784Z",
          "iopub.status.idle": "2023-11-18T05:19:51.59669Z",
          "shell.execute_reply.started": "2023-11-18T05:19:51.581749Z",
          "shell.execute_reply": "2023-11-18T05:19:51.595905Z"
        },
        "trusted": true,
        "id": "UfBXFsgFYZ0P"
      },
      "execution_count": null,
      "outputs": []
    }
  ]
}